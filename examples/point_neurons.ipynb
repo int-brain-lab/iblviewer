{
 "cells": [
  {
   "cell_type": "code",
   "execution_count": 1,
   "metadata": {},
   "outputs": [
    {
     "name": "stdout",
     "output_type": "stream",
     "text": [
      "Starting IBLViewer...\n"
     ]
    },
    {
     "data": {
      "application/vnd.jupyter.widget-view+json": {
       "model_id": "0344e7b3d99f4dcc8c889415ee9e873c",
       "version_major": 2,
       "version_minor": 0
      },
      "text/plain": [
       "ViewInteractiveWidget(height=1200, layout=Layout(height='auto', width='100%'), width=1200)"
      ]
     },
     "metadata": {},
     "output_type": "display_data"
    }
   ],
   "source": [
    "from iblviewer.atlas_controller import AtlasController\n",
    "\n",
    "controller = AtlasController()\n",
    "controller.initialize(resolution=50, embed_ui=True, jupyter=True, render=True)\n",
    "# Do not leave multi-line comments below initialize() or the viewer will not appear"
   ]
  },
  {
   "cell_type": "code",
   "execution_count": 2,
   "metadata": {},
   "outputs": [],
   "source": [
    "# Once the viewer is started, start interacting with it by code\n",
    "controller.update_px_slicer(value=3000)\n",
    "# Now click on the viewer and you will see the update"
   ]
  },
  {
   "cell_type": "code",
   "execution_count": 3,
   "metadata": {},
   "outputs": [],
   "source": [
    "# After that, we try loading experimental data, here point neurons.\n",
    "# Once this cell is run, click on the viewer to see the update\n",
    "\n",
    "import os\n",
    "import numpy as np\n",
    "import pickle\n",
    "\n",
    "def add_point_neurons(controller, data, with_labels=False):\n",
    "    \"\"\"\n",
    "    Add point neurons\n",
    "    :param controller: IBLViewer atlas controller\n",
    "    :param data: At least 5D array of x, y, z, region, custom data. \n",
    "    All the columns after 'region' are be stored as a time series\n",
    "    :param with_labels: Whether labels are added to the points\n",
    "    \"\"\"\n",
    "    if isinstance(data, str):\n",
    "        pickles = []\n",
    "        data_path = data\n",
    "        with (open(os.path.abspath(data_path), 'rb')) as openfile:\n",
    "            while True:\n",
    "                try:\n",
    "                    pickles.append(pickle.load(openfile))\n",
    "                except EOFError:\n",
    "                    break\n",
    "        data = pickles[0]\n",
    "\n",
    "    # Structure of 'data': x | y | z | region | pre-time allegiance | during-time allegiance | post-time allegiance \n",
    "    positions = []\n",
    "    regions = []\n",
    "    timings = []\n",
    "    # Cleaning weird data and extracting what we need. When Alessandro fixes his code, we can get rid of this cleaning.\n",
    "    for weird_data in data:\n",
    "        try:\n",
    "            positions.append([weird_data[0][0], weird_data[1][0], weird_data[2][0]])\n",
    "        except TypeError:\n",
    "            continue\n",
    "            #positions.append(bad_stuff[:3])\n",
    "        regions.append(weird_data[3])\n",
    "        timings.append(weird_data[4:])\n",
    "    positions = np.array(positions).astype(np.float)\n",
    "\n",
    "    timings = np.array(timings)\n",
    "    regions = np.array(regions)\n",
    "    # 16um is a good compromise for visibility from afar. So we make somata roughly 2-3 times larger than they are in reality\n",
    "    points = controller.view.new_points(positions, radius=16, values=timings, as_spheres=True, noise_amount=100)\n",
    "    \n",
    "    actors = [points]\n",
    "    if with_labels:\n",
    "        # Using functions from vedo (easy-to-use wrapper on top of VTK)\n",
    "        labels = points.labels('id', cells=True)\n",
    "        actors.append(labels)\n",
    "    controller.plot.add(actors)\n",
    "    return points\n",
    "\n",
    "\n",
    "# Now add point neurons\n",
    "data = ['./data/exp2_db4df448-e449-4a6f-a0e7-288711e7a75a_both', \n",
    "'./data/exp3_3dd347df-f14e-40d5-9ff2-9c49f84d2157_both', \n",
    "'./data/exp4_3c851386-e92d-4533-8d55-89a46f0e7384_both', \n",
    "'./data/exp5_158d5d35-a2ab-4a76-87b0-51048c5d5283_both']\n",
    "for data_set in data:\n",
    "    add_point_neurons(controller, data_set)"
   ]
  },
  {
   "cell_type": "code",
   "execution_count": null,
   "metadata": {},
   "outputs": [],
   "source": []
  }
 ],
 "metadata": {
  "kernelspec": {
   "display_name": "Python [conda env:iblenv] *",
   "language": "python",
   "name": "conda-env-iblenv-py"
  },
  "language_info": {
   "codemirror_mode": {
    "name": "ipython",
    "version": 3
   },
   "file_extension": ".py",
   "mimetype": "text/x-python",
   "name": "python",
   "nbconvert_exporter": "python",
   "pygments_lexer": "ipython3",
   "version": "3.8.5"
  }
 },
 "nbformat": 4,
 "nbformat_minor": 4
}
