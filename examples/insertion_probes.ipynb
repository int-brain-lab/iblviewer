{
 "metadata": {
  "language_info": {
   "codemirror_mode": {
    "name": "ipython",
    "version": 3
   },
   "file_extension": ".py",
   "mimetype": "text/x-python",
   "name": "python",
   "nbconvert_exporter": "python",
   "pygments_lexer": "ipython3",
   "version": 3
  },
  "orig_nbformat": 2
 },
 "nbformat": 4,
 "nbformat_minor": 2,
 "cells": [
  {
   "cell_type": "code",
   "execution_count": null,
   "metadata": {},
   "outputs": [],
   "source": [
    "# BASE CASE: load the viewer with desired options\n",
    "from vedo import *\n",
    "\n",
    "# DEBUG MODE, not using pip install here\n",
    "import os\n",
    "import sys\n",
    "sys.path.append(os.path.abspath('../'))\n",
    "from iblviewer import *\n",
    "\n",
    "resolution = 25 # units = um\n",
    "controller = atlas_controller.AtlasController()\n",
    "controller.initialize(resolution, embed_ui=True, jupyter=True)\n",
    "controller.render()"
   ]
  },
  {
   "cell_type": "code",
   "execution_count": null,
   "metadata": {},
   "outputs": [],
   "source": [
    "def add_point_neurons(controller, data, with_labels=False):\n",
    "    \"\"\"\n",
    "    Add point neurons\n",
    "    :param controller: IBLViewer atlas controller\n",
    "    :param data: At least 5D array of x, y, z, region, custom data. \n",
    "    All the columns after 'region' are be stored as a time series\n",
    "    :param with_labels: Whether labels are added to the points\n",
    "    \"\"\"\n",
    "    if isinstance(data, str):\n",
    "        pickles = []\n",
    "        data_path = data\n",
    "        with (open(os.path.abspath(data_path), 'rb')) as openfile:\n",
    "            while True:\n",
    "                try:\n",
    "                    pickles.append(pickle.load(openfile))\n",
    "                except EOFError:\n",
    "                    break\n",
    "        data = pickles[0]\n",
    "\n",
    "    # Structure of 'data': x | y | z | region | pre-time allegiance | during-time allegiance | post-time allegiance \n",
    "    positions = []\n",
    "    regions = []\n",
    "    timings = []\n",
    "    # Cleaning weird data and extracting what we need. When Alessandro fixes his code, we can get rid of this cleaning.\n",
    "    for weird_data in data:\n",
    "        try:\n",
    "            positions.append([weird_data[0][0], weird_data[1][0], weird_data[2][0]])\n",
    "        except TypeError:\n",
    "            continue\n",
    "            #positions.append(bad_stuff[:3])\n",
    "        regions.append(weird_data[3])\n",
    "        timings.append(weird_data[4:])\n",
    "    positions = np.array(positions).astype(np.float)\n",
    "\n",
    "    timings = np.array(timings)\n",
    "    regions = np.array(regions)\n",
    "    # 16um is a good compromise for visibility from afar. So we make somata roughly 2-3 times larger than they are in reality\n",
    "    points = controller.view.new_points(positions, radius=16, values=timings, as_spheres=True, noise_amount=100)\n",
    "    \n",
    "    actors = [points]\n",
    "    if with_labels:\n",
    "        # Using functions from vedo (easy-to-use wrapper on top of VTK)\n",
    "        labels = points.labels('id', cells=True)\n",
    "        actors.append(labels)\n",
    "    controller.plot.add(actors)\n",
    "    return points"
   ]
  }
 ]
}