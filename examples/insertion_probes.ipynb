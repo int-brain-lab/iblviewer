{
 "cells": [
  {
   "cell_type": "code",
   "execution_count": 1,
   "metadata": {},
   "outputs": [
    {
     "name": "stdout",
     "output_type": "stream",
     "text": [
      "IBL Viewer...\n"
     ]
    },
    {
     "data": {
      "application/vnd.jupyter.widget-view+json": {
       "model_id": "e989285478b94e8b8f81a6e8672ee297",
       "version_major": 2,
       "version_minor": 0
      },
      "text/plain": [
       "ViewInteractiveWidget(height=1200, layout=Layout(height='auto', width='100%'), width=1200)"
      ]
     },
     "metadata": {},
     "output_type": "display_data"
    }
   ],
   "source": [
    "from iblviewer.atlas_controller import AtlasController\n",
    "\n",
    "controller = AtlasController()\n",
    "controller.initialize(resolution=25, embed_ui=True, jupyter=True, render=True)\n",
    "# Do not leave multi-line comments below initialize() or the viewer will not appear"
   ]
  },
  {
   "cell_type": "code",
   "execution_count": null,
   "metadata": {},
   "outputs": [],
   "source": [
    "# Let's add insertion probes data from IBL database (DataJoints)\n",
    "# Warning: you need a valid authentication to ONE for this example to work\n",
    "# Once the cell is run, click on the viewer to see the result\n",
    "\n",
    "import oneibl.one\n",
    "import numpy as np\n",
    "\n",
    "\n",
    "def get_bwm_ins_alyx(one):\n",
    "    \"\"\"\n",
    "    Return insertions that match criteria :\n",
    "    - project code\n",
    "    - session QC not critical (TODO may need to add probe insertion QC)\n",
    "    - at least 1 alignment\n",
    "    - behavior pass\n",
    "    :param one: \"one\" connection handler\n",
    "    :return:\n",
    "    ins: dict containing the full details on insertion as per the alyx rest query\n",
    "    ins_id: list of insertions eids\n",
    "    sess_id: list of (unique) sessions eids\n",
    "    \"\"\"\n",
    "    ins = one.alyx.rest('insertions', 'list',\n",
    "                        provenance='Ephys aligned histology track',\n",
    "                        django='session__project__name__icontains,ibl_neuropixel_brainwide_01,'\n",
    "                               'session__qc__lt,50,'\n",
    "                               'json__extended_qc__alignment_count__gt,0,'\n",
    "                               'session__extended_qc__behavior,1')\n",
    "    \n",
    "    ins_id = [item['id'] for item in ins]\n",
    "    sess_id = [item['session_info']['id'] for item in ins]\n",
    "    # Here's what's in 'json':\n",
    "    # dict_keys(['qc', 'n_units', 'xyz_picks', 'extended_qc', 'drift_rms_um', 'firing_rate_max', 'n_units_qc_pass', \n",
    "    # 'amplitude_max_uV', 'firing_rate_median', 'amplitude_median_uV', 'whitening_matrix_conditioning'])\n",
    "    xyz_picks = {}\n",
    "    for item in ins:\n",
    "        ins_id = item['id']\n",
    "        picks = np.array(item['json'].get('xyz_picks', []))\n",
    "        xyz_picks[ins_id] = picks\n",
    "    sess_id = np.unique(sess_id)\n",
    "    return xyz_picks\n",
    "\n",
    "\n",
    "def get_picks_mean_vectors(xyz_picks, extent=3):\n",
    "    \"\"\"\n",
    "    Get a mean vector from picks coordinates\n",
    "    :param xyz_picks: Dictionary xyz picks, the key being the identifier for that data set\n",
    "    :param extent: Number of points to take from start and end for mean computation of end points\n",
    "    :return: 3D numpy array and a list of ids\n",
    "    \"\"\"\n",
    "    vectors = []\n",
    "    ids = []\n",
    "    # Mean between first and last three picks\n",
    "    for ins_id in xyz_picks:\n",
    "        raw_picks = xyz_picks[ins_id]\n",
    "        end_pt = np.mean(raw_picks[-extent:], axis=0)\n",
    "        start_pt = np.mean(raw_picks[:extent], axis=0)\n",
    "        vectors.append([start_pt, end_pt])\n",
    "        ids.append(ins_id)\n",
    "    return np.array(vectors), ids\n",
    "\n",
    "\n",
    "def add_insertion_probes(controller, one_connection, reduced=True, with_labels=False):\n",
    "    \"\"\"\n",
    "    Add insertion probe vectors\n",
    "    :param controller: The IBLViewer controller\n",
    "    :param one_connection: The \"one\" connection to IBL server\n",
    "    :param reduced: Whether insertion probes should be reduced to simple lines\n",
    "    :param with_labels: Whether labels should be added to the lines\n",
    "    \"\"\"\n",
    "    vectors = get_bwm_ins_alyx(one_connection)\n",
    "    print(vectors)\n",
    "    if reduced:\n",
    "        vectors, ids = get_picks_mean_vectors(vectors)\n",
    "        lines = controller.view.add_segments(vectors)\n",
    "    else:\n",
    "        lines = controller.view.add_lines(vectors)\n",
    "    actors = [lines]\n",
    "    \n",
    "    if with_labels:\n",
    "        labels = lines.labels('ids', rotX=-180, cells=True)\n",
    "        actors.append(labels)\n",
    "\n",
    "    controller.plot.add(actors)\n",
    "    return lines\n",
    "\n",
    "\n",
    "one_connection = oneibl.one.ONE(base_url=\"https://alyx.internationalbrainlab.org\")\n",
    "# Finally, we call the code to add probes\n",
    "lines = add_insertion_probes(controller, one_connection, reduced=False)\n",
    "# Now click on the viewer and see the result"
   ]
  }
 ],
 "metadata": {
  "kernelspec": {
   "display_name": "Python [conda env:iblenv] *",
   "language": "python",
   "name": "conda-env-iblenv-py"
  },
  "language_info": {
   "codemirror_mode": {
    "name": "ipython",
    "version": 3
   },
   "file_extension": ".py",
   "mimetype": "text/x-python",
   "name": "python",
   "nbconvert_exporter": "python",
   "pygments_lexer": "ipython3",
   "version": "3.8.5"
  }
 },
 "nbformat": 4,
 "nbformat_minor": 4
}
