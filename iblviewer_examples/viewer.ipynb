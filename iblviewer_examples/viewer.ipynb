{
 "cells": [
  {
   "cell_type": "code",
   "execution_count": 5,
   "metadata": {},
   "outputs": [
    {
     "name": "stdout",
     "output_type": "stream",
     "text": [
      "IBL Viewer...\n"
     ]
    },
    {
     "data": {
      "text/plain": [
       "<iblviewer.mouse_brain.MouseBrainViewer at 0x20be4f5e0>"
      ]
     },
     "execution_count": 5,
     "metadata": {},
     "output_type": "execute_result"
    }
   ],
   "source": [
    "import os, sys\n",
    "path = os.path.abspath('../../')\n",
    "sys.path.append(path)\n",
    "\n",
    "# Lines above only for local testing by developers\n",
    "from iblviewer.launcher import IBLViewer\n",
    "app = IBLViewer()\n",
    "app.launch(jupyter=True, embed_ui=True, dark_mode=True)"
   ]
  },
  {
   "cell_type": "code",
   "execution_count": null,
   "metadata": {},
   "outputs": [],
   "source": []
  }
 ],
 "metadata": {
  "kernelspec": {
   "display_name": "Python [conda env:iblenv] *",
   "language": "python",
   "name": "conda-env-iblenv-py"
  },
  "language_info": {
   "codemirror_mode": {
    "name": "ipython",
    "version": 3
   },
   "file_extension": ".py",
   "mimetype": "text/x-python",
   "name": "python",
   "nbconvert_exporter": "python",
   "pygments_lexer": "ipython3",
   "version": "3.8.5"
  }
 },
 "nbformat": 4,
 "nbformat_minor": 4
}